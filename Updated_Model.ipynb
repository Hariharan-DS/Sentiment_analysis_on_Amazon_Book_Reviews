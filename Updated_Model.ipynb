{
 "cells": [
  {
   "cell_type": "code",
   "execution_count": 1,
   "id": "afdf828d",
   "metadata": {},
   "outputs": [
    {
     "name": "stdout",
     "output_type": "stream",
     "text": [
      "Initial Class Distribution:\n",
      "Positive    31215\n",
      "Negative     4472\n",
      "Neutral      3199\n",
      "Name: sentiment, dtype: int64\n",
      "Class Weights: {'Negative': 2.898479427549195, 'Neutral': 4.051891216005002, 'Positive': 0.41524907896844465}\n",
      "After SMOTE Resampling: Counter({'Positive': 31215, 'Negative': 31215, 'Neutral': 31215})\n",
      "Classification Report:\n",
      "              precision    recall  f1-score   support\n",
      "\n",
      "    Negative       0.93      0.97      0.95      6243\n",
      "     Neutral       0.95      0.94      0.95      6243\n",
      "    Positive       0.96      0.93      0.94      6243\n",
      "\n",
      "    accuracy                           0.95     18729\n",
      "   macro avg       0.95      0.95      0.95     18729\n",
      "weighted avg       0.95      0.95      0.95     18729\n",
      "\n",
      "Confusion Matrix:\n",
      "[[6030   24  189]\n",
      " [ 292 5866   85]\n",
      " [ 143  269 5831]]\n"
     ]
    }
   ],
   "source": [
    "#2nd version\n",
    "\n",
    "import pandas as pd\n",
    "import numpy as np\n",
    "from sklearn.model_selection import train_test_split\n",
    "from sklearn.feature_extraction.text import TfidfVectorizer\n",
    "from sklearn.ensemble import RandomForestClassifier\n",
    "from sklearn.metrics import classification_report, confusion_matrix\n",
    "from sklearn.pipeline import Pipeline\n",
    "from sklearn.utils.class_weight import compute_class_weight\n",
    "from imblearn.over_sampling import SMOTE\n",
    "from collections import Counter\n",
    "\n",
    "# Load the dataset\n",
    "data = pd.read_csv(\"sampled_book_df.csv\")\n",
    "\n",
    "# Step 1: Preprocessing\n",
    "# Map review/score to sentiment labels\n",
    "def map_sentiment(score):\n",
    "    if score >= 4:  # Positive sentiment\n",
    "        return \"Positive\"\n",
    "    elif score == 3:  # Neutral sentiment\n",
    "        return \"Neutral\"\n",
    "    else:  # Negative sentiment\n",
    "        return \"Negative\"\n",
    "\n",
    "data['sentiment'] = data['review/score'].apply(map_sentiment)\n",
    "\n",
    "# Remove rows with missing or invalid review text\n",
    "data = data.dropna(subset=['review/text'])\n",
    "\n",
    "# Check class distribution\n",
    "print(\"Initial Class Distribution:\")\n",
    "print(data['sentiment'].value_counts())\n",
    "\n",
    "# Step 2: Feature Engineering\n",
    "X = data['review/text']\n",
    "y = data['sentiment']\n",
    "\n",
    "# Encode target labels\n",
    "class_weights = compute_class_weight(class_weight='balanced', classes=np.unique(y), y=y)\n",
    "class_weights_dict = {label: weight for label, weight in zip(np.unique(y), class_weights)}\n",
    "\n",
    "print(\"Class Weights:\", class_weights_dict)\n",
    "\n",
    "# Convert text data to numeric (TF-IDF)\n",
    "vectorizer = TfidfVectorizer(max_features=5000, stop_words='english', sublinear_tf=True)\n",
    "\n",
    "# Transform features\n",
    "X_tfidf = vectorizer.fit_transform(X)\n",
    "\n",
    "# Step 3: Address Imbalance\n",
    "# Use SMOTE to oversample minority classes\n",
    "smote = SMOTE(random_state=42)\n",
    "X_resampled, y_resampled = smote.fit_resample(X_tfidf, y)\n",
    "\n",
    "print(\"After SMOTE Resampling:\", Counter(y_resampled))\n",
    "\n",
    "# Encode labels into numerical format for training\n",
    "y_resampled_encoded = pd.factorize(y_resampled)[0]\n",
    "\n",
    "# Step 4: Model Training\n",
    "# Split data into training and test sets\n",
    "X_train, X_test, y_train, y_test = train_test_split(X_resampled, y_resampled_encoded, test_size=0.2, random_state=42, stratify=y_resampled_encoded)\n",
    "\n",
    "# Train a Random Forest Classifier with class weights\n",
    "clf = RandomForestClassifier(n_estimators=100, random_state=42, class_weight='balanced')\n",
    "clf.fit(X_train, y_train)\n",
    "\n",
    "# Step 5: Evaluation\n",
    "# Make predictions\n",
    "y_pred = clf.predict(X_test)\n",
    "\n",
    "# Decode target labels back to original categories\n",
    "label_map = {i: label for i, label in enumerate(pd.factorize(y_resampled)[1])}\n",
    "y_test_labels = [label_map[label] for label in y_test]\n",
    "y_pred_labels = [label_map[label] for label in y_pred]\n",
    "\n",
    "# Print classification metrics\n",
    "print(\"Classification Report:\")\n",
    "print(classification_report(y_test_labels, y_pred_labels))\n",
    "\n",
    "print(\"Confusion Matrix:\")\n",
    "print(confusion_matrix(y_test_labels, y_pred_labels))\n",
    "\n"
   ]
  },
  {
   "cell_type": "code",
   "execution_count": 2,
   "id": "53502141",
   "metadata": {},
   "outputs": [
    {
     "name": "stdout",
     "output_type": "stream",
     "text": [
      "Predicted Sentiment: Neutral\n"
     ]
    }
   ],
   "source": [
    "example_review = [\"The book is okay and not so memorable.\"] #Positive\n",
    "\n",
    "example_tfidf = vectorizer.transform(example_review)\n",
    "predicted_sentiment = clf.predict(example_tfidf)\n",
    "print(\"Predicted Sentiment:\", label_map[predicted_sentiment[0]])"
   ]
  },
  {
   "cell_type": "code",
   "execution_count": 3,
   "id": "84c2984c",
   "metadata": {},
   "outputs": [
    {
     "name": "stdout",
     "output_type": "stream",
     "text": [
      "Predicted Sentiment: Positive\n"
     ]
    }
   ],
   "source": [
    "example_review_1 = [\"The book is memorable.\"] #Positive\n",
    "\n",
    "example_tfidf = vectorizer.transform(example_review_1)\n",
    "predicted_sentiment = clf.predict(example_tfidf)\n",
    "print(\"Predicted Sentiment:\", label_map[predicted_sentiment[0]])"
   ]
  },
  {
   "cell_type": "code",
   "execution_count": 4,
   "id": "d9ca1cd5",
   "metadata": {},
   "outputs": [
    {
     "name": "stdout",
     "output_type": "stream",
     "text": [
      "Predicted Sentiment: Negative\n"
     ]
    }
   ],
   "source": [
    "example_review_2 = [\"The book is very worst\"] #Negative\n",
    "\n",
    "example_tfidf = vectorizer.transform(example_review_2)\n",
    "predicted_sentiment = clf.predict(example_tfidf)\n",
    "print(\"Predicted Sentiment:\", label_map[predicted_sentiment[0]])"
   ]
  },
  {
   "cell_type": "code",
   "execution_count": null,
   "id": "7a5a5878",
   "metadata": {},
   "outputs": [],
   "source": []
  }
 ],
 "metadata": {
  "kernelspec": {
   "display_name": "Testkernel",
   "language": "python",
   "name": "testkernel"
  },
  "language_info": {
   "codemirror_mode": {
    "name": "ipython",
    "version": 3
   },
   "file_extension": ".py",
   "mimetype": "text/x-python",
   "name": "python",
   "nbconvert_exporter": "python",
   "pygments_lexer": "ipython3",
   "version": "3.6.13"
  }
 },
 "nbformat": 4,
 "nbformat_minor": 5
}
